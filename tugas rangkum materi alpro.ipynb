{
 "cells": [
  {
   "cell_type": "markdown",
   "id": "e5c0a28a-0abf-4dd5-b10f-4755ce71b301",
   "metadata": {
    "jp-MarkdownHeadingCollapsed": true
   },
   "source": [
    "# Tipe data"
   ]
  },
  {
   "cell_type": "raw",
   "id": "43320068-b089-40c8-adc3-0a88a5b97ecb",
   "metadata": {},
   "source": [
    "1.) Kata kunci print() digunakan untuk mencetak data ke layar.\n",
    "2.) Data yang akan dicetak diletakkan di dalam tanda kurung setelah kata kunci print().\n",
    "3.) Jika data yang akan dicetak adalah teks, maka harus dikelilingi dengan tanda kutip."
   ]
  },
  {
   "cell_type": "code",
   "execution_count": 22,
   "id": "b04b60a2-1727-4500-9414-2f4e7ca3edbb",
   "metadata": {},
   "outputs": [
    {
     "name": "stdout",
     "output_type": "stream",
     "text": [
      "Hello, World!\n"
     ]
    }
   ],
   "source": [
    "print(\"Hello, World!\")"
   ]
  },
  {
   "cell_type": "markdown",
   "id": "9335370b-36bd-4dc3-aea8-ffa8f33cdbcb",
   "metadata": {
    "jp-MarkdownHeadingCollapsed": true
   },
   "source": [
    "# Variable"
   ]
  },
  {
   "cell_type": "raw",
   "id": "b1473a18-5d1c-4d4e-a3ec-4ba5a6d8a47d",
   "metadata": {},
   "source": [
    "Data type adalah tipe data yang menentukan jenis data yang dapat disimpan dalam variable.\n",
    "Variable adalah tempat penyimpanan data dalam Python. \n",
    "Variable dapat digunakan untuk menyimpan berbagai jenis data, seperti :\n",
    "\n",
    "1.) Tipe Data Numerik:\n",
    "Integer (int): Menampung bilangan bulat (misalnya, 42, -10, 0).\n",
    "Float: Menampung bilangan desimal (misalnya, 3.14, -0.5).\n",
    "2.) Tipe Data String:\n",
    "str: Menampung teks atau karakter (misalnya, \"Hello, world!\", 'Python').\n",
    "3.) Tipe Data Boolean:\n",
    "bool: Menampung nilai benar (True) atau salah (False)."
   ]
  },
  {
   "cell_type": "code",
   "execution_count": 4,
   "id": "43fb56ca-1fc6-4ffd-8bef-69c36383b642",
   "metadata": {},
   "outputs": [
    {
     "name": "stdout",
     "output_type": "stream",
     "text": [
      "Halo nama saya Mello saya berumur 18 dan status pernikahan saya adalah Belum Menikah\n"
     ]
    }
   ],
   "source": [
    "Nama = \"Mello\"\n",
    "umur = 18\n",
    "status_pernikahan = \"Belum Menikah\"\n",
    "\n",
    "print(\"Halo nama saya\", Nama, \"saya berumur\", umur, \"dan status pernikahan saya adalah\", status_pernikahan)"
   ]
  },
  {
   "cell_type": "markdown",
   "id": "ecce4f66-fa64-4441-9063-43f92a45d9c1",
   "metadata": {
    "jp-MarkdownHeadingCollapsed": true
   },
   "source": [
    "# Multistatment variable"
   ]
  },
  {
   "cell_type": "code",
   "execution_count": 6,
   "id": "15b4885c-e004-4cd6-b67a-909e12852d8e",
   "metadata": {},
   "outputs": [
    {
     "name": "stdout",
     "output_type": "stream",
     "text": [
      "Nama saya Mello dan Umur saya adalah 18 Tahun dan sedang Berkuliah di Institut Teknologi Telkom Surabaya\n"
     ]
    }
   ],
   "source": [
    "nama = \"Mello\"\n",
    "a = 10; b = 8\n",
    "kesibukan, keterangan = 'Berkuliah','Institut Teknologi Telkom Surabaya'\n",
    "\n",
    "print(f\"Nama saya {nama} dan Umur saya adalah {a+b} Tahun dan sedang {kesibukan} di {keterangan}\")"
   ]
  },
  {
   "cell_type": "code",
   "execution_count": 10,
   "id": "d2ba2b9c-f219-4310-8f08-1715d1279053",
   "metadata": {},
   "outputs": [
    {
     "name": "stdin",
     "output_type": "stream",
     "text": [
      "Masukkan nama Anda:  Mello\n",
      "Berapa harganya?:  10000\n"
     ]
    },
    {
     "name": "stdout",
     "output_type": "stream",
     "text": [
      "Halo, aku Mello dan aku sudah makan ayam goreng yang harganya Rp 10000\n"
     ]
    }
   ],
   "source": [
    "nama = input(\"Masukkan nama Anda: \")\n",
    "makan = 'sudah'\n",
    "harga = int(input(\"Berapa harganya?: \"))\n",
    "\n",
    "print(\"Halo, aku\", nama, 'dan aku', makan, 'makan ayam goreng yang harganya Rp', harga)"
   ]
  },
  {
   "cell_type": "markdown",
   "id": "3434062d-6133-462a-a05a-fcfca00a1510",
   "metadata": {
    "jp-MarkdownHeadingCollapsed": true
   },
   "source": [
    "# Operator phyton"
   ]
  },
  {
   "cell_type": "raw",
   "id": "77a07c1e-af47-4135-954f-08bb56612156",
   "metadata": {},
   "source": [
    "Operators adalah simbol yang digunakan untuk melakukan operasi pada data. \n",
    "Python memiliki berbagai jenis operators, yaitu:\n",
    "\n",
    "1.) operator aritmatika\n",
    "digunakan untuk melakukan operasi matematika pada data, meliputi:\n",
    "+ (penjumlahan)\n",
    "- (pengurangan)\n",
    "* (perkalian)\n",
    "/ (pembagian)\n",
    "** (perpangkatan)\n",
    "% (sisa bagi)\n",
    "// (pembagian bulat)\n",
    "\n",
    "2.) operator relasi\n",
    "digunakan untuk membandingkan dua nilai, meliputi:\n",
    "== (sama dengan)\n",
    "!= (tidak sama dengan)\n",
    "< (kurang dari)\n",
    "> (lebih dari)\n",
    "<= (kurang dari atau sama dengan)\n",
    ">= (lebih dari atau sama dengan)\n",
    "\n",
    "3.) operator penugasan\n",
    "digunakan untuk menyimpan nilai ke dalam variabel, meliputi:\n",
    "= (penugasan sederhana)\n",
    "+= (penugasan dengan penjumlahan)\n",
    "-= (penugasan dengan pengurangan)\n",
    "*= (penugasan dengan perkalian)\n",
    "/= (penugasan dengan pembagian)\n",
    "**= (penugasan dengan perpangkatan)\n",
    "%= (penugasan dengan sisa bagi)\n",
    "//= (penugasan dengan pembagian bulat)\n",
    "\n",
    "4.) operator logika\n",
    "digunakan untuk menggabungkan dua atau lebih pernyataan logika, meliputi:\n",
    "and (dan)\n",
    "or (atau)\n",
    "not (bukan)\n",
    "\n",
    "5.) operator keanggotaan\n",
    "digunakan untuk memeriksa apakah suatu nilai termasuk dalam sebuah kumpulan data, meliputi:\n",
    "in (ada)\n",
    "not in (tidak ada)\n",
    "\n",
    "6.) operator identitas\n",
    "digunakan untuk memeriksa apakah dua variabel merujuk ke objek yang sama, meliputi:\n",
    "is (sama)\n",
    "is not (tidak sama)\n",
    "\n",
    "7.) operator bitwise\n",
    "digunakan untuk melakukan operasi logika pada bit-bit data, meliputi:\n",
    "& (AND)\n",
    "^ (XOR)\n",
    "~ (NOT)\n",
    "<< (left shift)\n",
    ">> (right shift)"
   ]
  },
  {
   "cell_type": "code",
   "execution_count": 9,
   "id": "8904fa5e-5969-4c5e-b87e-cd703e58b8e3",
   "metadata": {},
   "outputs": [
    {
     "name": "stdout",
     "output_type": "stream",
     "text": [
      "hasil a + b adalah 30\n"
     ]
    }
   ],
   "source": [
    "a = 10\n",
    "b = 20\n",
    "\n",
    "c = a + b  \n",
    "print(\"hasil a + b adalah\", c)"
   ]
  },
  {
   "cell_type": "markdown",
   "id": "5c5e0592-339e-4d69-a43b-210a97999b4d",
   "metadata": {
    "jp-MarkdownHeadingCollapsed": true
   },
   "source": [
    "# Operator relasional"
   ]
  },
  {
   "cell_type": "raw",
   "id": "fe1afa46-7d9a-4c96-aa09-5ea1ae297f22",
   "metadata": {},
   "source": [
    "Operator relasional digunakan untuk membandingkan dua nilai. \n",
    "Hasil dari perbandingan ini adalah nilai boolean, yaitu True atau False."
   ]
  },
  {
   "cell_type": "code",
   "execution_count": 11,
   "id": "7788575e-c048-449f-82d8-b3e2fb2e0a21",
   "metadata": {},
   "outputs": [
    {
     "name": "stdout",
     "output_type": "stream",
     "text": [
      "False\n",
      "True\n",
      "True\n",
      "False\n",
      "True\n",
      "False\n"
     ]
    }
   ],
   "source": [
    "# Perbandingan nilai integer\n",
    "\n",
    "a = 10\n",
    "b = 20\n",
    "\n",
    "print(a == b)  # False\n",
    "print(a != b)  # True\n",
    "print(a < b)  # True\n",
    "print(a > b)  # False\n",
    "print(a <= b)  # True\n",
    "print(a >= b)  # False"
   ]
  },
  {
   "cell_type": "raw",
   "id": "1ded9fa7-ffa9-431f-aefe-07dc9412dd53",
   "metadata": {},
   "source": [
    "Pada contoh kode di atas, kita menggunakan operator relasional untuk membandingkan nilai dua variabel. \n",
    "Hasil dari perbandingan ini adalah nilai boolean, yaitu True atau False.\n",
    "\n",
    ">True berarti kondisi terpenuhi\n",
    ">False berarti kondisi tidak terpenuhi"
   ]
  },
  {
   "cell_type": "markdown",
   "id": "a8711a3f-4fc0-4b07-8400-895468766d1d",
   "metadata": {
    "jp-MarkdownHeadingCollapsed": true
   },
   "source": [
    "# Operator logika"
   ]
  },
  {
   "cell_type": "raw",
   "id": "385e3541-5f7f-43e4-aa3f-ed1902367b9d",
   "metadata": {},
   "source": [
    "Operator logika digunakan untuk menggabungkan dua atau lebih kondisi."
   ]
  },
  {
   "cell_type": "code",
   "execution_count": 83,
   "id": "0c638b08-d910-4317-a706-8ef4d3828d3c",
   "metadata": {},
   "outputs": [
    {
     "name": "stdout",
     "output_type": "stream",
     "text": [
      "Nilai valid\n"
     ]
    }
   ],
   "source": [
    "# Menentukan apakah nilai lebih besar dari 10 dan kurang dari 20\n",
    "\n",
    "nilai = 15\n",
    "\n",
    "if nilai > 10 and nilai < 20:\n",
    "    print(\"Nilai valid\")\n",
    "else:\n",
    "    print(\"Nilai tidak valid\")"
   ]
  },
  {
   "cell_type": "raw",
   "id": "bf8d6ceb-6644-41fd-99c1-24e62b331417",
   "metadata": {},
   "source": [
    "Pada contoh kode di atas, kita menggunakan operator logika untuk menggabungkan dua kondisi.\n",
    "\n",
    "and berarti kedua kondisi harus benar\n",
    "or berarti salah satu kondisi harus benar\n",
    "not berarti negasi kondisi"
   ]
  },
  {
   "cell_type": "markdown",
   "id": "11fdb2d4-7298-4943-8cc5-0ee1c1d14059",
   "metadata": {},
   "source": [
    "# Ekspresi Persamaan Matematika"
   ]
  },
  {
   "cell_type": "markdown",
   "id": "8d618f17-4d9d-4932-87e4-bc8639a67a26",
   "metadata": {
    "jp-MarkdownHeadingCollapsed": true
   },
   "source": [
    "# 1. Penjumlahan sederhana"
   ]
  },
  {
   "cell_type": "code",
   "execution_count": 27,
   "id": "5e94d50f-c46c-4c93-9157-c41398458247",
   "metadata": {},
   "outputs": [
    {
     "name": "stdin",
     "output_type": "stream",
     "text": [
      "Masukkan bilangan pertama:  7\n",
      "Masukkan bilangan kedua:  6\n"
     ]
    },
    {
     "name": "stdout",
     "output_type": "stream",
     "text": [
      "Hasil penjumlahan: 13.0\n"
     ]
    }
   ],
   "source": [
    "# Input bilangan dari pengguna\n",
    "bilangan1 = float(input(\"Masukkan bilangan pertama: \"))\n",
    "bilangan2 = float(input(\"Masukkan bilangan kedua: \"))\n",
    "\n",
    "# Hitung penjumlahan\n",
    "hasil = bilangan1 + bilangan2\n",
    "\n",
    "# Cetak hasil\n",
    "print(\"Hasil penjumlahan:\", hasil)"
   ]
  },
  {
   "cell_type": "markdown",
   "id": "5ba92240-42f0-42d0-9d7a-65c11d717a30",
   "metadata": {
    "jp-MarkdownHeadingCollapsed": true
   },
   "source": [
    "# 2. Pangkat eksponensial"
   ]
  },
  {
   "cell_type": "code",
   "execution_count": 30,
   "id": "da75bc3d-c85e-4568-bb31-c6192d1d3cc8",
   "metadata": {},
   "outputs": [
    {
     "name": "stdin",
     "output_type": "stream",
     "text": [
      "Masukkan basis:  5\n",
      "Masukkan eksponen:  4\n"
     ]
    },
    {
     "name": "stdout",
     "output_type": "stream",
     "text": [
      "Hasil pangkat: 625.0\n"
     ]
    }
   ],
   "source": [
    "# Input basis dan eksponen dari pengguna\n",
    "basis = float(input(\"Masukkan basis: \"))\n",
    "eksponen = float(input(\"Masukkan eksponen: \"))\n",
    "\n",
    "# Hitung hasil pangkat\n",
    "hasil = basis ** eksponen\n",
    "\n",
    "# Cetak hasil\n",
    "print(\"Hasil pangkat:\", hasil)"
   ]
  },
  {
   "cell_type": "markdown",
   "id": "bdd7651f-3531-4149-bd39-d5c0ea05c9f3",
   "metadata": {
    "jp-MarkdownHeadingCollapsed": true
   },
   "source": [
    "# 3. Sisa bagi (medulo)"
   ]
  },
  {
   "cell_type": "code",
   "execution_count": 35,
   "id": "8a258ab3-e3ef-4140-bd3b-2400f8a24764",
   "metadata": {},
   "outputs": [
    {
     "name": "stdin",
     "output_type": "stream",
     "text": [
      "Masukkan bilangan pertama (integer):  4\n",
      "Masukkan bilangan kedua (integer):  5\n"
     ]
    },
    {
     "name": "stdout",
     "output_type": "stream",
     "text": [
      "Sisa bagi: 4\n"
     ]
    }
   ],
   "source": [
    "# Input bilangan dari pengguna\n",
    "bilangan1 = int(input(\"Masukkan bilangan pertama (integer): \"))\n",
    "bilangan2 = int(input(\"Masukkan bilangan kedua (integer): \"))\n",
    "\n",
    "# Hitung sisa bagi\n",
    "hasil = bilangan1 % bilangan2\n",
    "\n",
    "# Cetak hasil\n",
    "print(\"Sisa bagi:\", hasil)"
   ]
  },
  {
   "cell_type": "markdown",
   "id": "0173cce5-da1f-4b03-bab8-b46acc00ada8",
   "metadata": {
    "jp-MarkdownHeadingCollapsed": true
   },
   "source": [
    "# 4. Akar kuadrat"
   ]
  },
  {
   "cell_type": "code",
   "execution_count": 44,
   "id": "ec9d0fa3-62a0-4927-881f-85b6385eadc0",
   "metadata": {},
   "outputs": [
    {
     "name": "stdin",
     "output_type": "stream",
     "text": [
      "Masukkan bilangan:  4\n"
     ]
    },
    {
     "name": "stdout",
     "output_type": "stream",
     "text": [
      "Akar kuadrat: 2.0\n"
     ]
    }
   ],
   "source": [
    "import math\n",
    "# Input bilangan dari pengguna\n",
    "bilangan = float(input(\"Masukkan bilangan: \"))\n",
    "\n",
    "# Hitung akar kuadrat\n",
    "hasil = math.sqrt(bilangan)\n",
    "\n",
    "# Cetak hasil\n",
    "print(\"Akar kuadrat:\", hasil)"
   ]
  },
  {
   "cell_type": "markdown",
   "id": "b7bab56b-4340-41d6-91c8-f4635bd5c4d0",
   "metadata": {
    "jp-MarkdownHeadingCollapsed": true
   },
   "source": [
    "# 5. Luas segitiga"
   ]
  },
  {
   "cell_type": "code",
   "execution_count": 47,
   "id": "8d3076dc-7b9e-4035-b890-9630db830661",
   "metadata": {},
   "outputs": [
    {
     "name": "stdin",
     "output_type": "stream",
     "text": [
      "Masukkan tinggi segitiga:  4\n",
      "Masukkan alas segitiga:  2\n"
     ]
    },
    {
     "name": "stdout",
     "output_type": "stream",
     "text": [
      "Luas segitiga: 4.0\n"
     ]
    }
   ],
   "source": [
    "# Input tinggi dan alas segitiga dari pengguna\n",
    "tinggi = float(input(\"Masukkan tinggi segitiga: \"))\n",
    "alas = float(input(\"Masukkan alas segitiga: \"))\n",
    "\n",
    "# Hitung luas segitiga\n",
    "luas = 0.5 * tinggi * alas\n",
    "\n",
    "# Cetak hasil\n",
    "print(\"Luas segitiga:\", luas)"
   ]
  },
  {
   "cell_type": "markdown",
   "id": "09b9e1c4-701c-4be5-a7ad-a830b41f0a0e",
   "metadata": {
    "jp-MarkdownHeadingCollapsed": true
   },
   "source": [
    "# 6. Konversi satuan panjang"
   ]
  },
  {
   "cell_type": "code",
   "execution_count": 50,
   "id": "c28bd4ce-61b8-4593-9122-2301e2dd88d3",
   "metadata": {},
   "outputs": [
    {
     "name": "stdin",
     "output_type": "stream",
     "text": [
      "Masukkan panjang dalam meter:  4\n"
     ]
    },
    {
     "name": "stdout",
     "output_type": "stream",
     "text": [
      "Panjang dalam kilometer: 0.004\n",
      "Panjang dalam sentimeter: 400.0\n"
     ]
    }
   ],
   "source": [
    "# Input panjang dalam meter dari pengguna\n",
    "panjang_meter = float(input(\"Masukkan panjang dalam meter: \"))\n",
    "\n",
    "# Konversi panjang ke kilometer dan sentimeter\n",
    "panjang_kilometer = panjang_meter / 1000\n",
    "panjang_sentimeter = panjang_meter * 100\n",
    "\n",
    "# Cetak hasil\n",
    "print(\"Panjang dalam kilometer:\", panjang_kilometer)\n",
    "print(\"Panjang dalam sentimeter:\", panjang_sentimeter)"
   ]
  },
  {
   "cell_type": "markdown",
   "id": "b300675c-00cf-4f4f-ac2f-f6fa88d9a80c",
   "metadata": {
    "jp-MarkdownHeadingCollapsed": true
   },
   "source": [
    "# 7. Bilangan faktorial"
   ]
  },
  {
   "cell_type": "code",
   "execution_count": 53,
   "id": "5be1c5ce-f64c-46c3-9a84-a1484ac23c9a",
   "metadata": {},
   "outputs": [
    {
     "name": "stdin",
     "output_type": "stream",
     "text": [
      "Masukkan bilangan bulat positif:  6\n"
     ]
    },
    {
     "name": "stdout",
     "output_type": "stream",
     "text": [
      "Faktorial dari 6 adalah 720\n"
     ]
    }
   ],
   "source": [
    "# Input bilangan bulat positif dari pengguna\n",
    "n = int(input(\"Masukkan bilangan bulat positif: \"))\n",
    "\n",
    "# Inisialisasi hasil dengan nilai awal 1\n",
    "hasil = 1\n",
    "\n",
    "# Hitung faktorial\n",
    "for i in range(1, n + 1):\n",
    "    hasil *= i\n",
    "\n",
    "# Cetak hasil\n",
    "print(f\"Faktorial dari {n} adalah {hasil}\")"
   ]
  },
  {
   "cell_type": "markdown",
   "id": "0dff1299-e909-499a-a79f-a3a3ba2c63a5",
   "metadata": {
    "jp-MarkdownHeadingCollapsed": true
   },
   "source": [
    "# Percabangan 'If' 'else'"
   ]
  },
  {
   "cell_type": "raw",
   "id": "b4c241aa-cbcc-46f0-8d41-fd1061dcf04b",
   "metadata": {},
   "source": [
    "Perintah if digunakan untuk melakukan suatu tindakan jika kondisi tertentu terpenuhi.\n",
    "Perintah else digunakan jika kondisi else tidak terpenuhi."
   ]
  },
  {
   "cell_type": "code",
   "execution_count": 68,
   "id": "6d2b97c9-ef78-43c7-8cbe-5a5f5698e6ef",
   "metadata": {},
   "outputs": [
    {
     "name": "stdout",
     "output_type": "stream",
     "text": [
      "anda lulus ujian\n"
     ]
    }
   ],
   "source": [
    "nilai = 95\n",
    "if nilai >= 90:\n",
    "    print(\"anda lulus ujian\")"
   ]
  },
  {
   "cell_type": "code",
   "execution_count": 62,
   "id": "0c2e42bc-ad36-431b-88b8-384c526a5561",
   "metadata": {},
   "outputs": [
    {
     "name": "stdin",
     "output_type": "stream",
     "text": [
      "masukkan umur anda:  17\n"
     ]
    },
    {
     "name": "stdout",
     "output_type": "stream",
     "text": [
      "Anda belum dewasa.\n"
     ]
    }
   ],
   "source": [
    "umur = int(input(\"masukkan umur anda: \"))\n",
    "if umur >= 18:\n",
    "    print(\"Anda sudah dewasa.\")\n",
    "else:\n",
    "    print(\"Anda belum dewasa.\")"
   ]
  },
  {
   "cell_type": "raw",
   "id": "565b7160-c434-4606-a733-8cc99a50e0fe",
   "metadata": {},
   "source": [
    "Pada contoh kode di atas, kita menggunakan perintah if untuk menentukan \n",
    "apakah orang tersebut sudah dewasa.\n",
    "\n",
    "if adalah kata kunci untuk memulai perintah\n",
    "umur >= 18 adalah kondisi yang akan diuji\n",
    "print(\"Anda sudah dewasa\") adalah tindakan yang akan dilakukan jika kondisi terpenuhi\n",
    "else adalah kata kunci untuk memulai blok kode yang akan dijalankan jika kondisi tidak terpenuhi\n",
    "print(\"Anda belum dewasa\") adalah tindakan yang akan dilakukan jika kondisi tidak terpenuhi atau umur<18"
   ]
  },
  {
   "cell_type": "markdown",
   "id": "b210b516-f0a9-45a7-b325-ecd6ac2a5786",
   "metadata": {
    "jp-MarkdownHeadingCollapsed": true
   },
   "source": [
    "# Pernyataan if Bertingkat"
   ]
  },
  {
   "cell_type": "raw",
   "id": "b06ba305-de8d-4fb0-8031-ecb0ac0834c9",
   "metadata": {},
   "source": [
    "Pernyataan if bertingkat digunakan untuk menguji lebih dari satu kondisi."
   ]
  },
  {
   "cell_type": "code",
   "execution_count": 71,
   "id": "c73d4206-5f26-437c-b961-29d850e0279e",
   "metadata": {},
   "outputs": [
    {
     "name": "stdout",
     "output_type": "stream",
     "text": [
      "C\n"
     ]
    }
   ],
   "source": [
    "nilai = 75\n",
    "if nilai >= 90:\n",
    "    print(\"A\")\n",
    "elif nilai >= 80:\n",
    "    print(\"B\")\n",
    "elif nilai >= 70:\n",
    "    print(\"C\")\n",
    "else:\n",
    "    print(\"D\")\n"
   ]
  },
  {
   "cell_type": "raw",
   "id": "9c4c64d6-36a7-4d2d-bb38-091ef61a0171",
   "metadata": {},
   "source": [
    "Pada contoh kode di atas, kita menggunakan pernyataan if bertingkat untuk menentukan nilai\n",
    "tersebut akan mendapatkan grade A,B,C,atau D.\n",
    "\n",
    "if adalah kata kunci untuk memulai blok kode pertama\n",
    "nilai >=90 adalah kondisi yang akan diuji untuk blok kode pertama\n",
    "print(\"A\") adalah tindakan yang akan dilakukan jika kondisi pertama terpenuhi\n",
    "elif adalah kata kunci untuk memulai blok kode kedua\n",
    "nilai >= 80 adalah kondisi yang akan diuji untuk blok kode kedua\n",
    "print(\"B\") adalah tindakan yang akan dilakukan jika kondisi kedua terpenuhi\n",
    "elif kedua adalah kata kunci untuk memulai blok kode ketiga\n",
    "nilai >=70 adalah kondisi yang akan diuji untuk blok kode ketiga\n",
    "print(\"C\") adalah tindakan yang akan dilakukan jika kondisi ketiga terpenuhi\n",
    "else adalah kata kunci untuk memulai blok kode terakhir (yaitu jika nilai <70)\n",
    "print(\"D\") adalah tindakan yang akan dilakukan jika kondisi terakhir terpenuhi"
   ]
  },
  {
   "cell_type": "code",
   "execution_count": 38,
   "id": "84bfae4f-9987-483a-a61f-1d2935f2a19c",
   "metadata": {},
   "outputs": [
    {
     "name": "stdin",
     "output_type": "stream",
     "text": [
      "Masukkan bilangan:  23\n"
     ]
    },
    {
     "name": "stdout",
     "output_type": "stream",
     "text": [
      "Bilangan positif dan ganjil\n"
     ]
    }
   ],
   "source": [
    "# PERCABANGAN BERSARANG\n",
    "bil = float(input(\"Masukkan bilangan: \"))\n",
    "\n",
    "if bil > 0:\n",
    "    # Bilangan positif\n",
    "    if bil % 2 == 0:\n",
    "        print(\"Bilangan positif dan genap\")\n",
    "    else:\n",
    "        print(\"Bilangan positif dan ganjil\")\n",
    "elif bil < 0:\n",
    "    # Bilangan negatif\n",
    "    print(\"Bilangan negatif\")\n",
    "else:\n",
    "    # Bilangan nol\n",
    "    print(\"Bilangan nol\")"
   ]
  },
  {
   "cell_type": "markdown",
   "id": "fc724ceb-1821-4fa6-b1e6-e9221ebd410a",
   "metadata": {
    "jp-MarkdownHeadingCollapsed": true
   },
   "source": [
    "# Pernyataan 'if' bersarang"
   ]
  },
  {
   "cell_type": "raw",
   "id": "1cfa163d-ab0b-4b60-95ba-147a75778701",
   "metadata": {},
   "source": [
    "Pernyataan if bersarang digunakan untuk menguji kondisi yang saling bergantung."
   ]
  },
  {
   "cell_type": "code",
   "execution_count": 74,
   "id": "37b412b5-01cb-424d-b551-82b6ba0c651e",
   "metadata": {},
   "outputs": [
    {
     "name": "stdin",
     "output_type": "stream",
     "text": [
      "Masukkan bilangan:  -5\n"
     ]
    },
    {
     "name": "stdout",
     "output_type": "stream",
     "text": [
      "Bilangan negatif\n"
     ]
    }
   ],
   "source": [
    "# Menentukan apakah bilangan positif, negatif, atau nol, dan apakah bilangan tersebut merupakan bilangan genap atau ganjil\n",
    "\n",
    "bil = float(input(\"Masukkan bilangan: \"))\n",
    "\n",
    "if bil > 0:\n",
    "    # Bilangan positif\n",
    "    if bil % 2 == 0:\n",
    "        print(\"Bilangan positif dan genap\")\n",
    "    else:\n",
    "        print(\"Bilangan positif dan ganjil\")\n",
    "elif bil < 0:\n",
    "    # Bilangan negatif\n",
    "    print(\"Bilangan negatif\")\n",
    "else:\n",
    "    # Bilangan nol\n",
    "    print(\"Bilangan nol\")"
   ]
  },
  {
   "cell_type": "raw",
   "id": "d330ddad-879e-4b28-822f-92c6e9c31e26",
   "metadata": {},
   "source": [
    "Pada kode diatas, penggunaan if bersarang digunakan ketika if pertama terpenuhi"
   ]
  },
  {
   "cell_type": "markdown",
   "id": "ff9b7569-6cd8-43e8-b492-2330b4c6d582",
   "metadata": {
    "jp-MarkdownHeadingCollapsed": true
   },
   "source": [
    "# Dasar Perluangan"
   ]
  },
  {
   "cell_type": "code",
   "execution_count": 77,
   "id": "7471f319-30ae-4da3-a362-7b0868607316",
   "metadata": {},
   "outputs": [
    {
     "name": "stdin",
     "output_type": "stream",
     "text": [
      "Masukkan nilai n:  6\n"
     ]
    },
    {
     "name": "stdout",
     "output_type": "stream",
     "text": [
      "Jumlah deret dari 1 hingga 6 adalah 21\n"
     ]
    }
   ],
   "source": [
    "# Input dari pengguna\n",
    "n = int(input(\"Masukkan nilai n: \"))\n",
    "\n",
    "# Inisialisasi variabel total\n",
    "total = 0\n",
    "\n",
    "# Perulangan untuk menjumlahkan\n",
    "for i in range(1, n + 1):\n",
    "    total += i\n",
    "\n",
    "# Output hasil\n",
    "print(f\"Jumlah deret dari 1 hingga {n} adalah {total}\")"
   ]
  },
  {
   "cell_type": "raw",
   "id": "de6c8691-cf05-4342-9f74-80fa1539805f",
   "metadata": {},
   "source": [
    "Perintah for digunakan untuk mengulangi blok kode tertentu sejumlah kali.\n",
    "Blok kode tersebut akan dieksekusi sebanyak jumlah elemen dalam iterable."
   ]
  }
 ],
 "metadata": {
  "kernelspec": {
   "display_name": "Python 3 (ipykernel)",
   "language": "python",
   "name": "python3"
  },
  "language_info": {
   "codemirror_mode": {
    "name": "ipython",
    "version": 3
   },
   "file_extension": ".py",
   "mimetype": "text/x-python",
   "name": "python",
   "nbconvert_exporter": "python",
   "pygments_lexer": "ipython3",
   "version": "3.12.4"
  }
 },
 "nbformat": 4,
 "nbformat_minor": 5
}
